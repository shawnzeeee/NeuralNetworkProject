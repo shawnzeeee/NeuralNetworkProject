{
 "cells": [
  {
   "cell_type": "markdown",
   "metadata": {},
   "source": [
    "# Group Project: Machine Learning \n",
    "\n",
    "- <a href='#part1'>Part 1: Deep L-Layer Neural Network for Image Classification</a>\n",
    "\t- You will use pre-built functions to build an L-Layer neural network for an image classification task\n",
    "- <a href='#part2'>Part 2: Full Machine Learning Project</a>\n",
    "\t- You will go through the full \"idea, code, experiment\" cycle to build and improve a model of your choice\n",
    "\n",
    "You may work in groups of 1-3 students for this project.\n",
    "\n",
    "In this project, especially in Part 2, you are expected to show the work you have done in the form of including results for models you have experimented with on the path to the best-performing model. Make sure you include Python and markdown boxes explaining and discussing any decisions you have made and interpretations of the results you have achieved. You can include diagrams, tables, and/or graphs using markdown. **A significant portion of your grade will be based on the progression of your model, not just the final result.**\n",
    "\n",
    "**Note**: All work you submit must be the work of your group. Projects will be checked against each other, and against any work submitted in previous semesters where a similar project was given."
   ]
  },
  {
   "cell_type": "markdown",
   "metadata": {},
   "source": [
    "<a id=\"part1\"></a>\n",
    "## Part 1: Deep L-Layer Neural Network for Image Classification\n",
    "\n",
    "You will use the functions given to you to build a deep L-layer network, and apply it to cat vs non-cat classification. Hopefully, you will see an improvement in accuracy relative to your previous logistic regression implementation.  "
   ]
  },
  {
   "cell_type": "markdown",
   "metadata": {},
   "source": [
    "### 1.1 - Packages"
   ]
  },
  {
   "cell_type": "markdown",
   "metadata": {},
   "source": [
    "Let's first import all the packages that you will need during this assignment. \n",
    "- [numpy](https://www.numpy.org/) is the fundamental package for scientific computing with Python.\n",
    "- [matplotlib](http://matplotlib.org) is a library to plot graphs in Python.\n",
    "- [h5py](http://www.h5py.org) is a common package to interact with a dataset that is stored on an H5 file.\n",
    "- [PIL](https://pillow.readthedocs.io/en/stable/index.html) and [scipy](https://www.scipy.org/) are used here to test your model with your own picture at the end.\n",
    "- nn_functions provides the functions you need to build an L-layer network.\n",
    "- np.random.seed(1) is used to keep all the random function calls consistent. It will help us grade your work."
   ]
  },
  {
   "cell_type": "code",
   "execution_count": 1,
   "metadata": {
    "tags": []
   },
   "outputs": [],
   "source": [
    "import time\n",
    "import numpy as np\n",
    "import h5py\n",
    "import matplotlib.pyplot as plt\n",
    "from matplotlib.pyplot import figure\n",
    "import scipy\n",
    "from PIL import Image\n",
    "from scipy import ndimage\n",
    "from nn_functions import *\n",
    "\n",
    "%matplotlib inline\n",
    "plt.rcParams['figure.figsize'] = (5.0, 4.0) # set default size of plots\n",
    "plt.rcParams['image.interpolation'] = 'nearest'\n",
    "plt.rcParams['image.cmap'] = 'gray'\n",
    "\n",
    "%load_ext autoreload\n",
    "%autoreload 2\n",
    "np.random.seed(1)"
   ]
  },
  {
   "cell_type": "markdown",
   "metadata": {},
   "source": [
    "### 1.2 - Dataset\n",
    "\n",
    "You will use the same \"Cat vs non-Cat\" dataset as in your previous assignment. The model you had built had 70% test accuracy on classifying cats vs non-cats images. Hopefully, your new model will perform a better!\n",
    "\n",
    "**Problem Statement**: You are given a dataset containing:\n",
    "- a training set of m_train images labelled as cat (1) or non-cat (0)\n",
    "- a test set of m_test images labelled as cat and non-cat\n",
    "- each image is of shape (num_px, num_px, 3) where 3 is for the 3 channels (RGB).\n",
    "\n",
    "Let's get more familiar with the dataset. Load the data by running the cell below."
   ]
  },
  {
   "cell_type": "code",
   "execution_count": 2,
   "metadata": {
    "tags": []
   },
   "outputs": [],
   "source": [
    "train_x_orig, train_y, test_x_orig, test_y, classes = load_data()"
   ]
  },
  {
   "cell_type": "markdown",
   "metadata": {},
   "source": [
    "The following code will show you an image in the dataset. Feel free to change the index and re-run the cell multiple times to see other images. "
   ]
  },
  {
   "cell_type": "code",
   "execution_count": 3,
   "metadata": {},
   "outputs": [
    {
     "name": "stdout",
     "output_type": "stream",
     "text": [
      "y = 1. It's a cat picture.\n"
     ]
    },
    {
     "data": {
      "image/png": "[encoded data removed]",
      "text/plain": [
       "<Figure size 500x400 with 1 Axes>"
      ]
     },
     "metadata": {},
     "output_type": "display_data"
    }
   ],
   "source": [
    "# Example of a picture\n",
    "index = 50\n",
    "plt.imshow(train_x_orig[index])\n",
    "print (\"y = \" + str(train_y[0,index]) + \". It's a \" + classes[train_y[0,index]].decode(\"utf-8\") +  \" picture.\")"
   ]
  },
  {
   "cell_type": "code",
   "execution_count": 4,
   "metadata": {},
   "outputs": [
    {
     "name": "stdout",
     "output_type": "stream",
     "text": [
      "Number of training examples: 209\n",
      "Number of testing examples: 50\n",
      "Each image is of size: (64, 64, 3)\n",
      "train_x_orig shape: (209, 64, 64, 3)\n",
      "train_y shape: (1, 209)\n",
      "test_x_orig shape: (50, 64, 64, 3)\n",
      "test_y shape: (1, 50)\n"
     ]
    }
   ],
   "source": [
    "# Explore your dataset \n",
    "m_train = train_x_orig.shape[0]\n",
    "num_px = train_x_orig.shape[1]\n",
    "m_test = test_x_orig.shape[0]\n",
    "\n",
    "print (\"Number of training examples: \" + str(m_train))\n",
    "print (\"Number of testing examples: \" + str(m_test))\n",
    "print (\"Each image is of size: (\" + str(num_px) + \", \" + str(num_px) + \", 3)\")\n",
    "print (\"train_x_orig shape: \" + str(train_x_orig.shape))\n",
    "print (\"train_y shape: \" + str(train_y.shape))\n",
    "print (\"test_x_orig shape: \" + str(test_x_orig.shape))\n",
    "print (\"test_y shape: \" + str(test_y.shape))"
   ]
  },
  {
   "cell_type": "markdown",
   "metadata": {},
   "source": [
    "As usual, you reshape and standardize the images before feeding them to the network. The code is given in the cell below.\n",
    "\n",
    "<img src=\"images/imvectorkiank.png\" style=\"width:450px;height:300px;\">\n",
    "\n",
    "<caption><center> <u>Figure 1</u>: Image to vector conversion. <br> </center></caption>"
   ]
  },
  {
   "cell_type": "code",
   "execution_count": 5,
   "metadata": {},
   "outputs": [
    {
     "name": "stdout",
     "output_type": "stream",
     "text": [
      "train_x's shape: (12288, 209)\n",
      "test_x's shape: (12288, 50)\n"
     ]
    }
   ],
   "source": [
    "# Reshape the training and test examples \n",
    "train_x_flatten = train_x_orig.reshape(train_x_orig.shape[0], -1).T   # The \"-1\" makes reshape flatten the remaining dimensions\n",
    "test_x_flatten = test_x_orig.reshape(test_x_orig.shape[0], -1).T\n",
    "\n",
    "# Standardize data to have feature values between 0 and 1.\n",
    "train_x = train_x_flatten/255.\n",
    "test_x = test_x_flatten/255.\n",
    "\n",
    "print (\"train_x's shape: \" + str(train_x.shape))\n",
    "print (\"test_x's shape: \" + str(test_x.shape))\n"
   ]
  },
  {
   "cell_type": "markdown",
   "metadata": {},
   "source": [
    "$12,288$ equals $64 \\times 64 \\times 3$ which is the size of one reshaped image vector."
   ]
  },
  {
   "cell_type": "markdown",
   "metadata": {},
   "source": [
    "### 1.3 - Architecture of your model"
   ]
  },
  {
   "cell_type": "markdown",
   "metadata": {},
   "source": [
    "Now that you are familiar with the dataset, it is time to build a deep neural network to distinguish cat images from non-cat images.\n",
    "\n",
    "Here is a simplified network representation for an L-layer neural network:\n",
    "\n",
    "<img src=\"images/LlayerNN_kiank.png\" style=\"width:650px;height:400px;\">\n",
    "<caption><center> <u>Figure 2</u>: L-layer neural network.</center></caption> \n",
    "\n",
    "The model can be summarized as: ***[LINEAR -> RELU] $\\times$ (L-1) -> LINEAR -> SIGMOID***</center></caption>\n",
    "\n",
    "<u>Detailed Architecture of figure 2</u>:\n",
    "- The input is a (64,64,3) image which is flattened to a vector of size (12288,1).\n",
    "- The corresponding vector: $[x_0,x_1,...,x_{12287}]^T$ is then multiplied by the weight matrix $W^{[1]}$ and then you add the intercept $b^{[1]}$. The result is called the linear unit.\n",
    "- Next, you take the relu of the linear unit. This process could be repeated several times for each $(W^{[l]}, b^{[l]})$ depending on the model architecture.\n",
    "- Finally, you take the sigmoid of the final linear unit. If it is greater than 0.5, you classify it to be a cat.\n",
    "\n",
    "<u>General methodology</u>\n",
    "\n",
    "As usual you will follow the Deep Learning methodology to build the model:\n",
    "1. Initialize parameters / Define hyperparameters\n",
    "2. Loop for num_iterations:\n",
    "    - Forward propagation\n",
    "    - Compute cost function\n",
    "    - Backward propagation\n",
    "    - Update parameters (using parameters, and grads from backprop) \n",
    "4. Use trained parameters to predict labels"
   ]
  },
  {
   "cell_type": "markdown",
   "metadata": {},
   "source": [
    "### 1.4 - L-layer Neural Network\n",
    "\n",
    "**Exercise**: Use the helper functions in the nn_functions file to build an $L$-layer neural network with the following structure: **[LINEAR -> RELU]$\\times$(L-1) -> LINEAR -> SIGMOID**. Spend some time looking through the functions and understanding how they can be used to build a deep neural network. The functions you may need and their inputs are:\n",
    "```python\n",
    "def initialize_parameters_deep(layers_dims):\n",
    "    ...\n",
    "    return parameters \n",
    "def L_model_forward(X, parameters):\n",
    "    ...\n",
    "    return AL, caches\n",
    "def compute_cost(AL, Y):\n",
    "    ...\n",
    "    return cost\n",
    "def L_model_backward(AL, Y, caches):\n",
    "    ...\n",
    "    return grads\n",
    "def update_parameters(parameters, grads, learning_rate):\n",
    "    ...\n",
    "    return parameters\n",
    "```"
   ]
  },
  {
   "cell_type": "code",
   "execution_count": 6,
   "metadata": {
    "tags": []
   },
   "outputs": [],
   "source": [
    "### CONSTANTS ###\n",
    "layers_dims = [12288, 20, 7, 5, 1] #  4-layer model"
   ]
  },
  {
   "cell_type": "code",
   "execution_count": 7,
   "metadata": {
    "tags": []
   },
   "outputs": [],
   "source": [
    "# GRADED FUNCTION: L_layer_model\n",
    "\n",
    "def L_layer_model(X, Y, layers_dims, learning_rate = 0.0075, num_iterations = 3000, print_cost=False):\n",
    "    \"\"\"\n",
    "    Implements a L-layer neural network: [LINEAR->RELU]*(L-1)->LINEAR->SIGMOID.\n",
    "    \n",
    "    Arguments:\n",
    "    X -- data, numpy array of shape (num_px * num_px * 3, number of examples)\n",
    "    Y -- true \"label\" vector (containing 0 if cat, 1 if non-cat), of shape (1, number of examples)\n",
    "    layers_dims -- list containing the input size and each layer size, of length (number of layers + 1).\n",
    "    learning_rate -- learning rate of the gradient descent update rule\n",
    "    num_iterations -- number of iterations of the optimization loop\n",
    "    print_cost -- if True, it prints the cost every 100 steps\n",
    "    \n",
    "    Returns:\n",
    "    parameters -- parameters learnt by the model. They can then be used to predict.\n",
    "    \"\"\"\n",
    "\n",
    "    np.random.seed(1)\n",
    "    costs = []                         # keep track of cost\n",
    "    \n",
    "    # Parameters initialization. (≈ 1 line of code)\n",
    "    ### START CODE HERE ###\n",
    "    parameters = initialize_parameters_deep(layers_dims)\n",
    "    ### END CODE HERE ###\n",
    "    \n",
    "    # Loop (gradient descent)\n",
    "    for i in range(0, num_iterations):\n",
    "\n",
    "        # START CODE HERE ### (≈ 4 lines of code)\n",
    "        # Forward propagation: [LINEAR -> RELU]*(L-1) -> LINEAR -> SIGMOID.\n",
    "        AL, caches = L_model_forward(X, parameters)\n",
    "        # Compute cost.\n",
    "        cost = compute_cost(AL, Y)\n",
    "        # Backward propagation.\n",
    "        grads = L_model_backward(AL, Y, caches)\n",
    "        # Update parameters.\n",
    "        parameters = update_parameters(parameters, grads, learning_rate)\n",
    "        ### END CODE HERE ###\n",
    "                \n",
    "        # Print the cost every 100 training example\n",
    "        if print_cost and i % 100 == 0:\n",
    "            print (\"Cost after iteration %i: %f\" %(i, cost))\n",
    "        if print_cost and i % 100 == 0:\n",
    "            costs.append(cost)\n",
    "            \n",
    "    # plot the cost\n",
    "    plt.plot(np.squeeze(costs))\n",
    "    plt.ylabel('cost')\n",
    "    plt.xlabel('iterations (per hundreds)')\n",
    "    plt.title(\"Learning rate =\" + str(learning_rate))\n",
    "    plt.show()\n",
    "    \n",
    "    return parameters"
   ]
  },
  {
   "cell_type": "markdown",
   "metadata": {},
   "source": [
    "You will now train the model as a 4-layer neural network. \n",
    "\n",
    "Run the cell below to train your model. The cost should decrease on every iteration. It may take a few minutes to run 2500 iterations. "
   ]
  },
  {
   "cell_type": "code",
   "execution_count": 8,
   "metadata": {},
   "outputs": [],
   "source": [
    "# parameters = L_layer_model(train_x, train_y, layers_dims, num_iterations = 2500, print_cost = True)"
   ]
  },
  {
   "cell_type": "code",
   "execution_count": 9,
   "metadata": {
    "scrolled": true
   },
   "outputs": [
    {
     "ename": "NameError",
     "evalue": "name 'parameters' is not defined",
     "output_type": "error",
     "traceback": [
      "\u001b[1;31m---------------------------------------------------------------------------\u001b[0m",
      "\u001b[1;31mNameError\u001b[0m                                 Traceback (most recent call last)",
      "Cell \u001b[1;32mIn[9], line 1\u001b[0m\n\u001b[1;32m----> 1\u001b[0m pred_train \u001b[38;5;241m=\u001b[39m predict(train_x, train_y, \u001b[43mparameters\u001b[49m)\n",
      "\u001b[1;31mNameError\u001b[0m: name 'parameters' is not defined"
     ]
    }
   ],
   "source": [
    "pred_train = predict(train_x, train_y, parameters)"
   ]
  },
  {
   "cell_type": "code",
   "execution_count": null,
   "metadata": {},
   "outputs": [],
   "source": [
    "pred_test = predict(test_x, test_y, parameters)"
   ]
  },
  {
   "cell_type": "markdown",
   "metadata": {},
   "source": [
    "Congratulations! It seems that your 4-layer neural network has better performance than your previous assignment network on the same test set. \n",
    "\n",
    "This is good performance for this task."
   ]
  },
  {
   "cell_type": "markdown",
   "metadata": {},
   "source": [
    "###  1.5 - Results Analysis\n",
    "\n",
    "First, let's take a look at some images the L-layer model labeled incorrectly. This will show a few mislabeled images. "
   ]
  },
  {
   "cell_type": "code",
   "execution_count": null,
   "metadata": {},
   "outputs": [],
   "source": [
    "print_mislabeled_images(classes, test_x, test_y, pred_test)"
   ]
  },
  {
   "cell_type": "markdown",
   "metadata": {},
   "source": [
    "**A few types of images the model tends to do poorly on include:** \n",
    "- Cat body in an unusual position\n",
    "- Cat appears against a background of a similar color\n",
    "- Unusual cat color and species\n",
    "- Camera Angle\n",
    "- Brightness of the picture\n",
    "- Scale variation (cat is very large or small in image) "
   ]
  },
  {
   "cell_type": "markdown",
   "metadata": {},
   "source": [
    "### 1.6 - Test with your own image (optional/ungraded exercise) ##\n",
    "\n",
    "You can use your own image and see the output of your model. To do that:\n",
    "1. Add your image to the \"images\" folder\n",
    "2. Change your image's name in the following code\n",
    "3. Run the code and check if the algorithm is right (1 = cat, 0 = non-cat)!"
   ]
  },
  {
   "cell_type": "code",
   "execution_count": null,
   "metadata": {
    "tags": []
   },
   "outputs": [],
   "source": [
    "## START CODE HERE ##\n",
    "my_image = \"my_image.jpg\" # change this to the name of your image file \n",
    "my_label_y = [1] # the true class of your image (1 -> cat, 0 -> non-cat)\n",
    "## END CODE HERE ##\n",
    "\n",
    "fname = \"images/\" + my_image\n",
    "image = Image.open(fname)\n",
    "my_image = np.array(image.resize((num_px, num_px))).reshape((1, num_px*num_px*3)).T\n",
    "my_image = my_image/255.\n",
    "my_predicted_image = predict(my_image, my_label_y, parameters)\n",
    "\n",
    "plt.imshow(image)\n",
    "print (\"y = \" + str(np.squeeze(my_predicted_image)) + \", your L-layer model predicts a \\\"\" + classes[int(np.squeeze(my_predicted_image)),].decode(\"utf-8\") +  \"\\\" picture.\")"
   ]
  },
  {
   "cell_type": "markdown",
   "metadata": {},
   "source": [
    "<a id=\"part2\"></a>\n",
    "## Part 2: Full Machine Learning Project\n",
    "\n",
    "Now you will use all you know about building and training neural networks in an \"idea, code, experiment\" cycle on a data set.\n",
    "\n",
    "### 2.1 - Find a dataset (or datasets)\n",
    "\n",
    "Find an appropriate dataset to work with. Some places to look:\n",
    "- [Kaggle](https://www.kaggle.com/datasets) \n",
    "- [University of California, Irvine Machine Learning Repository](https://archive.ics.uci.edu/ml/datasets.php)\n",
    "\n",
    "You can choose just one, or more than one if you'd like to. Think carefully of the type of task you are trying to accomplish (e.g., classification, regression, etc.). Spend some time analyzing and processing the data. For example, decide how to split the data; should you have separate train, dev, and test sets? Does the data need to be cleaned or adjusted? How should the data be normalized? Any other considerations or adjustments needed for the data?\n",
    "\n",
    "Clearly indicate where you found the dataset(s) you are working with.\n",
    "\n",
    "Show the work you have done analyzing and processing the data in Python boxes in this notebook. There should also be associated markdown boxes discussing what you have observed and what decisions you have made.\n",
    "\n",
    "\n"
   ]
  },
  {
   "cell_type": "code",
   "execution_count": 24,
   "metadata": {
    "tags": []
   },
   "outputs": [
    {
     "name": "stdout",
     "output_type": "stream",
     "text": [
      "There are 12 attributes: ['Age' 'Sex' 'ChestPainType' 'RestingBP' 'Cholesterol' 'FastingBS'\n",
      " 'RestingECG' 'MaxHR' 'ExerciseAngina' 'Oldpeak' 'ST_Slope' 'HeartDisease']\n",
      "['28' '29' '30' '31' '32' '33' '34' '35' '36' '37' '38' '39' '40' '41'\n",
      " '42' '43' '44' '45' '46' '47' '48' '49' '50' '51' '52' '53' '54' '55'\n",
      " '56' '57' '58' '59' '60' '61' '62' '63' '64' '65' '66' '67' '68' '69'\n",
      " '70' '71' '72' '73' '74' '75' '76' '77']\n",
      "['F' 'M']\n",
      "['ASY' 'ATA' 'NAP' 'TA']\n",
      "['0' '100' '101' '102' '104' '105' '106' '108' '110' '112' '113' '114'\n",
      " '115' '116' '117' '118' '120' '122' '123' '124' '125' '126' '127' '128'\n",
      " '129' '130' '131' '132' '133' '134' '135' '136' '137' '138' '139' '140'\n",
      " '141' '142' '143' '144' '145' '146' '148' '150' '152' '154' '155' '156'\n",
      " '158' '160' '164' '165' '170' '172' '174' '178' '180' '185' '190' '192'\n",
      " '200' '80' '92' '94' '95' '96' '98']\n",
      "['0' '100' '110' '113' '117' '123' '126' '129' '131' '132' '139' '141'\n",
      " '142' '147' '149' '152' '153' '156' '157' '159' '160' '161' '163' '164'\n",
      " '165' '166' '167' '168' '169' '170' '171' '172' '173' '174' '175' '176'\n",
      " '177' '178' '179' '180' '181' '182' '183' '184' '185' '186' '187' '188'\n",
      " '190' '192' '193' '194' '195' '196' '197' '198' '199' '200' '201' '202'\n",
      " '203' '204' '205' '206' '207' '208' '209' '210' '211' '212' '213' '214'\n",
      " '215' '216' '217' '218' '219' '220' '221' '222' '223' '224' '225' '226'\n",
      " '227' '228' '229' '230' '231' '232' '233' '234' '235' '236' '237' '238'\n",
      " '239' '240' '241' '242' '243' '244' '245' '246' '247' '248' '249' '250'\n",
      " '251' '252' '253' '254' '255' '256' '257' '258' '259' '260' '261' '262'\n",
      " '263' '264' '265' '266' '267' '268' '269' '270' '271' '272' '273' '274'\n",
      " '275' '276' '277' '278' '279' '280' '281' '282' '283' '284' '285' '286'\n",
      " '287' '288' '289' '290' '291' '292' '293' '294' '295' '297' '298' '299'\n",
      " '300' '302' '303' '304' '305' '306' '307' '308' '309' '310' '311' '312'\n",
      " '313' '315' '316' '318' '319' '320' '321' '322' '325' '326' '327' '328'\n",
      " '329' '330' '331' '333' '335' '336' '337' '338' '339' '340' '341' '342'\n",
      " '344' '347' '349' '353' '354' '355' '358' '360' '365' '369' '384' '385'\n",
      " '388' '392' '393' '394' '404' '407' '409' '412' '417' '458' '466' '468'\n",
      " '491' '518' '529' '564' '603' '85']\n",
      "['0' '1']\n",
      "['LVH' 'Normal' 'ST']\n",
      "['100' '102' '103' '104' '105' '106' '107' '108' '109' '110' '111' '112'\n",
      " '113' '114' '115' '116' '117' '118' '119' '120' '121' '122' '123' '124'\n",
      " '125' '126' '127' '128' '129' '130' '131' '132' '133' '134' '135' '136'\n",
      " '137' '138' '139' '140' '141' '142' '143' '144' '145' '146' '147' '148'\n",
      " '149' '150' '151' '152' '153' '154' '155' '156' '157' '158' '159' '160'\n",
      " '161' '162' '163' '164' '165' '166' '167' '168' '169' '170' '171' '172'\n",
      " '173' '174' '175' '176' '177' '178' '179' '180' '181' '182' '184' '185'\n",
      " '186' '187' '188' '190' '192' '194' '195' '202' '60' '63' '67' '69' '70'\n",
      " '71' '72' '73' '77' '78' '80' '82' '83' '84' '86' '87' '88' '90' '91'\n",
      " '92' '93' '94' '95' '96' '97' '98' '99']\n",
      "['N' 'Y']\n",
      "['-0.1' '-0.5' '-0.7' '-0.8' '-0.9' '-1' '-1.1' '-1.5' '-2' '-2.6' '0'\n",
      " '0.1' '0.2' '0.3' '0.4' '0.5' '0.6' '0.7' '0.8' '0.9' '1' '1.1' '1.2'\n",
      " '1.3' '1.4' '1.5' '1.6' '1.7' '1.8' '1.9' '2' '2.1' '2.2' '2.3' '2.4'\n",
      " '2.5' '2.6' '2.8' '2.9' '3' '3.1' '3.2' '3.4' '3.5' '3.6' '3.7' '3.8' '4'\n",
      " '4.2' '4.4' '5' '5.6' '6.2']\n",
      "['Down' 'Flat' 'Up']\n",
      "['0' '1']\n"
     ]
    }
   ],
   "source": [
    "# Your work for analyzing and processing the data\n",
    "\n",
    "filename = \"heart.csv\"\n",
    "\n",
    "# Load the dataset\n",
    "dataset = np.genfromtxt(filename, delimiter=\",\", dtype=None, encoding=None)\n",
    "\n",
    "# Process dataset\n",
    "attributes = dataset[:1,:].flatten()\n",
    "print(\"There are\", len(attributes), \"attributes:\", attributes)\n",
    "dataset = dataset[1:,:]\n",
    "unique_before_map = []\n",
    "for i in range(0, len(attributes)):\n",
    "    unique_before_map.append(len(np.unique(dataset[:, i])))\n",
    "    print(np.unique(dataset[:, i]))\n",
    "    "
   ]
  },
  {
   "cell_type": "code",
   "execution_count": 25,
   "metadata": {},
   "outputs": [
    {
     "name": "stdout",
     "output_type": "stream",
     "text": [
      "(918, 12)\n",
      "[0.36363636 0.37662338 0.38961039 0.4025974  0.41558442 0.42857143\n",
      " 0.44155844 0.45454545 0.46753247 0.48051948 0.49350649 0.50649351\n",
      " 0.51948052 0.53246753 0.54545455 0.55844156 0.57142857 0.58441558\n",
      " 0.5974026  0.61038961 0.62337662 0.63636364 0.64935065 0.66233766\n",
      " 0.67532468 0.68831169 0.7012987  0.71428571 0.72727273 0.74025974\n",
      " 0.75324675 0.76623377 0.77922078 0.79220779 0.80519481 0.81818182\n",
      " 0.83116883 0.84415584 0.85714286 0.87012987 0.88311688 0.8961039\n",
      " 0.90909091 0.92207792 0.93506494 0.94805195 0.96103896 0.97402597\n",
      " 0.98701299 1.        ]\n",
      "[0. 1.]\n",
      "[0.         0.33333333 0.66666667 1.        ]\n",
      "[0.    0.4   0.46  0.47  0.475 0.48  0.49  0.5   0.505 0.51  0.52  0.525\n",
      " 0.53  0.54  0.55  0.56  0.565 0.57  0.575 0.58  0.585 0.59  0.6   0.61\n",
      " 0.615 0.62  0.625 0.63  0.635 0.64  0.645 0.65  0.655 0.66  0.665 0.67\n",
      " 0.675 0.68  0.685 0.69  0.695 0.7   0.705 0.71  0.715 0.72  0.725 0.73\n",
      " 0.74  0.75  0.76  0.77  0.775 0.78  0.79  0.8   0.82  0.825 0.85  0.86\n",
      " 0.87  0.89  0.9   0.925 0.95  0.96  1.   ]\n",
      "[0.         0.14096186 0.16583748 0.18242123 0.18739635 0.19402985\n",
      " 0.2039801  0.20895522 0.21393035 0.2172471  0.21890547 0.2305141\n",
      " 0.23383085 0.23548922 0.24378109 0.24709784 0.25207297 0.25373134\n",
      " 0.25870647 0.26036484 0.26368159 0.26533997 0.26699834 0.27031509\n",
      " 0.27197347 0.27363184 0.27529022 0.27694859 0.27860697 0.28026534\n",
      " 0.28192371 0.28358209 0.28524046 0.28689884 0.28855721 0.29021559\n",
      " 0.29187396 0.29353234 0.29519071 0.29684909 0.29850746 0.30016584\n",
      " 0.30182421 0.30348259 0.30514096 0.30679934 0.30845771 0.31011609\n",
      " 0.31177446 0.31509121 0.31840796 0.32006633 0.32172471 0.32338308\n",
      " 0.32504146 0.32669983 0.32835821 0.33001658 0.33167496 0.33333333\n",
      " 0.33499171 0.33665008 0.33830846 0.33996683 0.34162521 0.34328358\n",
      " 0.34494196 0.34660033 0.34825871 0.34991708 0.35157546 0.35323383\n",
      " 0.35489221 0.35655058 0.35820896 0.35986733 0.3615257  0.36318408\n",
      " 0.36484245 0.36650083 0.3681592  0.36981758 0.37147595 0.37313433\n",
      " 0.3747927  0.37645108 0.37810945 0.37976783 0.3814262  0.38308458\n",
      " 0.38474295 0.38640133 0.3880597  0.38971808 0.39137645 0.39303483\n",
      " 0.3946932  0.39635158 0.39800995 0.39966833 0.4013267  0.40298507\n",
      " 0.40464345 0.40630182 0.4079602  0.40961857 0.41127695 0.41293532\n",
      " 0.4145937  0.41625207 0.41791045 0.41956882 0.4212272  0.42288557\n",
      " 0.42454395 0.42620232 0.4278607  0.42951907 0.43117745 0.43283582\n",
      " 0.4344942  0.43615257 0.43781095 0.43946932 0.44112769 0.44278607\n",
      " 0.44444444 0.44610282 0.44776119 0.44941957 0.45107794 0.45273632\n",
      " 0.45439469 0.45605307 0.45771144 0.45936982 0.46102819 0.46268657\n",
      " 0.46434494 0.46600332 0.46766169 0.46932007 0.47097844 0.47263682\n",
      " 0.47429519 0.47595357 0.47761194 0.47927032 0.48092869 0.48258706\n",
      " 0.48424544 0.48590381 0.48756219 0.48922056 0.49253731 0.49419569\n",
      " 0.49585406 0.49751244 0.50082919 0.50248756 0.50414594 0.50580431\n",
      " 0.50746269 0.50912106 0.51077944 0.51243781 0.51409619 0.51575456\n",
      " 0.51741294 0.51907131 0.52238806 0.52404643 0.52736318 0.52902156\n",
      " 0.53067993 0.53233831 0.53399668 0.53897181 0.54063018 0.54228856\n",
      " 0.54394693 0.54560531 0.54726368 0.54892206 0.55223881 0.55555556\n",
      " 0.55721393 0.55887231 0.56053068 0.56218905 0.56384743 0.5655058\n",
      " 0.56716418 0.57048093 0.57545605 0.5787728  0.5854063  0.58706468\n",
      " 0.58872305 0.59369818 0.59701493 0.6053068  0.6119403  0.63681592\n",
      " 0.6384743  0.64344942 0.65008292 0.65174129 0.65339967 0.66998342\n",
      " 0.67495854 0.67827529 0.68325041 0.69154229 0.75953566 0.77280265\n",
      " 0.7761194  0.81426202 0.85903814 0.87728027 0.93532338 1.        ]\n",
      "[0. 1.]\n",
      "[0.  0.5 1. ]\n",
      "[0.2970297  0.31188119 0.33168317 0.34158416 0.34653465 0.35148515\n",
      " 0.35643564 0.36138614 0.38118812 0.38613861 0.3960396  0.40594059\n",
      " 0.41089109 0.41584158 0.42574257 0.43069307 0.43564356 0.44554455\n",
      " 0.45049505 0.45544554 0.46039604 0.46534653 0.47029703 0.47524752\n",
      " 0.48019802 0.48514851 0.49009901 0.4950495  0.5049505  0.50990099\n",
      " 0.51485149 0.51980198 0.52475248 0.52970297 0.53465347 0.53960396\n",
      " 0.54455446 0.54950495 0.55445545 0.55940594 0.56435644 0.56930693\n",
      " 0.57425743 0.57920792 0.58415842 0.58910891 0.59405941 0.5990099\n",
      " 0.6039604  0.60891089 0.61386139 0.61881188 0.62376238 0.62871287\n",
      " 0.63366337 0.63861386 0.64356436 0.64851485 0.65346535 0.65841584\n",
      " 0.66336634 0.66831683 0.67326733 0.67821782 0.68316832 0.68811881\n",
      " 0.69306931 0.6980198  0.7029703  0.70792079 0.71287129 0.71782178\n",
      " 0.72277228 0.72772277 0.73267327 0.73762376 0.74257426 0.74752475\n",
      " 0.75247525 0.75742574 0.76237624 0.76732673 0.77227723 0.77722772\n",
      " 0.78217822 0.78712871 0.79207921 0.7970297  0.8019802  0.80693069\n",
      " 0.81188119 0.81683168 0.82178218 0.82673267 0.83168317 0.83663366\n",
      " 0.84158416 0.84653465 0.85148515 0.85643564 0.86138614 0.86633663\n",
      " 0.87128713 0.87623762 0.88118812 0.88613861 0.89108911 0.8960396\n",
      " 0.9009901  0.91089109 0.91584158 0.92079208 0.92574257 0.93069307\n",
      " 0.94059406 0.95049505 0.96039604 0.96534653 1.        ]\n",
      "[0. 1.]\n",
      "[-0.41935484 -0.32258065 -0.24193548 -0.17741935 -0.16129032 -0.14516129\n",
      " -0.12903226 -0.11290323 -0.08064516 -0.01612903  0.          0.01612903\n",
      "  0.03225806  0.0483871   0.06451613  0.08064516  0.09677419  0.11290323\n",
      "  0.12903226  0.14516129  0.16129032  0.17741935  0.19354839  0.20967742\n",
      "  0.22580645  0.24193548  0.25806452  0.27419355  0.29032258  0.30645161\n",
      "  0.32258065  0.33870968  0.35483871  0.37096774  0.38709677  0.40322581\n",
      "  0.41935484  0.4516129   0.46774194  0.48387097  0.5         0.51612903\n",
      "  0.5483871   0.56451613  0.58064516  0.59677419  0.61290323  0.64516129\n",
      "  0.67741935  0.70967742  0.80645161  0.90322581  1.        ]\n",
      "[0.  0.5 1. ]\n",
      "[0. 1.]\n"
     ]
    }
   ],
   "source": [
    "###### MAP CATEGORICAL VALUES #######\n",
    "# Sex\n",
    "dataset[:, 1][dataset[:, 1] == 'M'] = 0\n",
    "dataset[:, 1][dataset[:, 1] == 'F'] = 1\n",
    "# Chest pain type\n",
    "dataset[:, 2][dataset[:, 2] == 'ASY'] = 0\n",
    "dataset[:, 2][dataset[:, 2] == 'ATA'] = 1\n",
    "dataset[:, 2][dataset[:, 2] == 'NAP'] = 2\n",
    "dataset[:, 2][dataset[:, 2] == 'TA'] = 3\n",
    "# Resting ECG\n",
    "dataset[:, 6][dataset[:, 6] == 'LVH'] = 0\n",
    "dataset[:, 6][dataset[:, 6] == 'Normal'] = 1\n",
    "dataset[:, 6][dataset[:, 6] == 'ST'] = 2\n",
    "# Exercise induced Angina\n",
    "dataset[:, 8][dataset[:, 8] == 'N'] = 0\n",
    "dataset[:, 8][dataset[:, 8] == 'Y'] = 1\n",
    "# ST slope\n",
    "dataset[:, 10][dataset[:, 10] == 'Down'] = 0\n",
    "dataset[:, 10][dataset[:, 10] == 'Flat'] = 1\n",
    "dataset[:, 10][dataset[:, 10] == 'Up'] = 2\n",
    "\n",
    "# Sanity check\n",
    "for i in range(0, len(attributes)):\n",
    "    assert(unique_before_map[i] == len(np.unique(dataset[:, i])))\n",
    "print(dataset.shape)\n",
    "\n",
    "# standardize values\n",
    "dataset = np.array(dataset,dtype=float)\n",
    "test = dataset/np.max(dataset, axis=0)\n",
    "for i in range(0, len(attributes)):\n",
    "    print(np.unique(test[:, i]))"
   ]
  },
  {
   "cell_type": "code",
   "execution_count": 26,
   "metadata": {},
   "outputs": [
    {
     "data": {
      "image/png": "[encoded data removed]",
      "text/plain": [
       "<Figure size 480x480 with 1 Axes>"
      ]
     },
     "metadata": {},
     "output_type": "display_data"
    },
    {
     "name": "stdout",
     "output_type": "stream",
     "text": [
      "(918, 11)\n",
      "(918, 1)\n",
      "(800, 11)\n",
      "(800, 1)\n",
      "(118, 11)\n",
      "(118, 1)\n"
     ]
    }
   ],
   "source": [
    "# Seperate labels from inputs\n",
    "Y = dataset[:,-1]\n",
    "X = dataset[:,:-1]\n",
    "\n",
    "unique, counts = np.unique(Y, return_counts=True)\n",
    "outcomes = dict(zip(unique, counts))\n",
    "figure(figsize=(6, 6), dpi=80)\n",
    "plt.bar(outcomes.keys(), outcomes.values())\n",
    "plt.show()\n",
    "\n",
    "# Reshape the data to the shape needed for our model\n",
    "Y = Y.reshape(Y.shape[0],1)\n",
    "print(X.shape)\n",
    "print(Y.shape)\n",
    "\n",
    "train_x = X[:800,:]\n",
    "train_y = Y[:800,:]\n",
    "test_x = X[800:,:]\n",
    "test_y = Y[800:,:]\n",
    "print(train_x.shape)\n",
    "print(train_y.shape)\n",
    "print(test_x.shape)\n",
    "print(test_y.shape)"
   ]
  },
  {
   "cell_type": "markdown",
   "metadata": {},
   "source": [
    "### 2.2 - Build your model\n",
    "\n",
    "Start with a basic model, show the results, and then apply whichever improvements you decide to incorporate as per below.\n",
    "\n",
    "You have two options for building your model:\n",
    "- **The difficult option**: Use the provided L-layer network code used above in Part 1 and (later) extend it to incorporate more advanced neural network improvements as given in class\n",
    "- **The easier option**: Use [Keras](https://keras.io) and [TensorFlow](https://www.tensorflow.org) to build a network\n",
    "\t- You may *not* use any framework other than Keras/TensorFlow\n",
    "\n",
    "Ambition will be rewarded! If you choose the easier option, you are expected to incorporate more of the potential improvements given below.\n",
    "\n",
    "Some of the neural network improvements you can consider incorporating for either option (not an exhaustive list):\n",
    "- Weight initialization methods (e.g., zeroes, random, etc.)\n",
    "- Regularization: L2, dropout, etc.\n",
    "- Mini-batch gradient descent\n",
    "- Gradient descent optimization algorithm: momentum, RMSProp, Adam, etc.\n",
    "- Batch normalization\n",
    "\n",
    "Show the results with your model with improvements. Use markdown boxes to discuss the effect of your improvement(s) and change in accuracy."
   ]
  },
  {
   "cell_type": "code",
   "execution_count": 5,
   "metadata": {
    "tags": []
   },
   "outputs": [],
   "source": [
    "import tensorflow as tf\n",
    "from tensorflow.keras.models import Sequential\n",
    "from tensorflow.keras.layers import Dense\n",
    "from tensorflow.keras.layers import Activation, Dense, Dropout, BatchNormalization\n",
    "import random\n",
    "activations = ['tanh', 'relu', 'sigmoid']\n",
    "modelMetrics = ['binary_crossentropy', 'sparse_categorical_accuracy' , 'categorical_accuracy']\n",
    "optimizers = ['adam', 'rmsprop', 'sgd']\n",
    "n = 20\n",
    "models = []\n",
    "recursions = 5\n",
    "average_accuracy_testing = []\n",
    "average_accuracy_training = []"
   ]
  },
  {
   "cell_type": "code",
   "execution_count": 6,
   "metadata": {},
   "outputs": [
    {
     "name": "stdout",
     "output_type": "stream",
     "text": [
      "Testing Accuracy: 53.39\n"
     ]
    }
   ],
   "source": [
    "# Your work for building a basic model and then applying improvements\n",
    "\n",
    "# layers_dims = [11, 20, 7, 5, 1] #  4-layer model\n",
    "# # L_layer_model(X, Y, layers_dims, learning_rate = 0.0075, num_iterations = 3000, print_cost=False)\n",
    "# parameters = L_layer_model(train_x, train_y, layers_dims, num_iterations = 1, print_cost = True)\n",
    "# pred_train = predict(train_x, train_y, parameters)\n",
    "# pred_test = predict(test_x, test_y, parameters)\n",
    "\n",
    "random_batch_size = random.randint(5,20)\n",
    "baseModel = Sequential()\n",
    "baseModel.add(Dense(12, input_shape=(11,), activation='tanh'))\n",
    "baseModel.add(Dense(8, activation='tanh'))\n",
    "baseModel.add(Dense(1, activation='sigmoid'))\n",
    "baseModel.compile(loss='binary_crossentropy', optimizer='sgd', metrics=['binary_accuracy'])\n",
    "baseModel.fit(train_x, train_y, epochs=150, batch_size=10, verbose=0)\n",
    "#_, accuracy = baseModel.evaluate(test_x, test_y, verbose = 0)\n",
    "y_pred_proba = baseModel.predict(test_x, verbose = 0)\n",
    "y_pred_testing = np.round(y_pred_proba).astype(int)\n",
    "accuracy_testing = (y_pred_testing == test_y).mean()\n",
    "#K.clear_session()\n",
    "\n",
    "print('Testing Accuracy: %.2f' % (accuracy_testing*100))"
   ]
  },
  {
   "cell_type": "markdown",
   "metadata": {},
   "source": [
    "# Test 3 optimizers and pick best one (Adam, sgd, or rmsprop) Also test weight intialization and regularization"
   ]
  },
  {
   "cell_type": "code",
   "execution_count": null,
   "metadata": {},
   "outputs": [],
   "source": []
  },
  {
   "cell_type": "code",
   "execution_count": 7,
   "metadata": {
    "tags": []
   },
   "outputs": [
    {
     "name": "stdout",
     "output_type": "stream",
     "text": [
      "Testing Accuracy: 53.39\n"
     ]
    }
   ],
   "source": [
    "random_batch_size = random.randint(5,20)\n",
    "secondModel = Sequential()\n",
    "secondModel.add(Dense(11, input_shape=(11,), activation='tanh'))\n",
    "secondModel.add(BatchNormalization())\n",
    "secondModel.add(Dropout(0.2))\n",
    "\n",
    "secondModel.add(Dense(8, activation='tanh'))\n",
    "secondModel.add(BatchNormalization())\n",
    "secondModel.add(Dropout(0.2))\n",
    "\n",
    "secondModel.add(Dense(1, activation='sigmoid'))\n",
    "secondModel.add(BatchNormalization())\n",
    "secondModel.add(Dropout(0.2))\n",
    "\n",
    "secondModel.compile(loss='binary_crossentropy', optimizer='sgd', metrics=['binary_accuracy'])\n",
    "secondModel.fit(train_x, train_y, epochs=150, batch_size=10, verbose=0)\n",
    "#_, accuracy = secondModel.evaluate(test_x, test_y, verbose = 0)\n",
    "y_pred_proba = secondModel.predict(test_x, verbose = 0)\n",
    "y_pred_testing = np.round(y_pred_proba).astype(int)\n",
    "accuracy_testing = (y_pred_testing == test_y).mean()\n",
    "#K.clear_session()\n",
    "\n",
    "print('Testing Accuracy: %.2f' % (accuracy_testing*100))"
   ]
  },
  {
   "cell_type": "markdown",
   "metadata": {},
   "source": [
    "### 2.3 - Idea, Code, Experiment Cycle\n",
    "\n",
    "Now go through a iterative process to improve your model. This will involve things like (not an exhaustive list):\n",
    "- Checking whether you have a bias and/or variance problem. How will you address it? \n",
    "- Hyperparameter tuning: learning rate, # of layers, # of hidden units, activation functions, mini-batch size, etc.\n",
    "- Trying any of the improvements made to the model in part 2.2 to see if it leads to better results\n",
    "\n",
    "We want to see the progression of your model to a final version with the best results you can achieve. You don't have to show results for every single experiment you tried, but a general progression of different models at various stages of development should be included. Feel free to include discussion, diagrams, tables, and/or graphs that may summarize some of your experiments. **If you only show us the final model you've built, your mark will be minimal**.\n",
    "\n",
    "Your discussion should also include details on the methodology you used in your experiments. For example, how did you approach hyperparameter tuning?\n"
   ]
  },
  {
   "cell_type": "markdown",
   "metadata": {},
   "source": [
    "# After selecting model with best optimizer manually play with testing/development sets to achieve the best bias and variance"
   ]
  },
  {
   "cell_type": "code",
   "execution_count": 28,
   "metadata": {
    "tags": []
   },
   "outputs": [],
   "source": [
    "train_x = X[:600,:]\n",
    "train_y = Y[:600,:]\n",
    "\n",
    "development_x = X[600:159,:]\n",
    "development_y = Y[600:159,:]\n",
    "\n",
    "test_x = X[759:918,:]\n",
    "test_y = Y[759:918,:]"
   ]
  },
  {
   "cell_type": "markdown",
   "metadata": {},
   "source": [
    "# Fine Tuning our hyperparameters on development set"
   ]
  },
  {
   "cell_type": "markdown",
   "metadata": {},
   "source": [
    "When it comes to finding the optimal hyperparameters we used random values for each. Intially we started with a very broad range of random values for each parameter which would produce volatile results. Our goal is to minimize the volatility by finding a suitable range of random values for each hyperparameter that will allow our accuracy to converge. To do this we defined two functions: change_range_hyperparameters and test_hyperparameters. The first function is responsible for identifying a new range of random values for a hyper parameter by taking the 4 best sets of hyperparameters (the ones that produces the highest accuracies) and finding the min and max of each hyperparameter within the 4 sets. "
   ]
  },
  {
   "cell_type": "code",
   "execution_count": 8,
   "metadata": {
    "tags": []
   },
   "outputs": [],
   "source": [
    "def change_range_hyperparameters(test_params,n_layers, n_neurons, n_epochs,n_batch_size):\n",
    "    arr = []\n",
    "    for item in test_params:\n",
    "        arr.append(item['index'])\n",
    "    min_layers = min([n_layers[i] for i in arr])\n",
    "    max_layers = max([n_layers[i] for i in arr])\n",
    "    \n",
    "    min_neurons = min([n_neurons[i] for i in arr])\n",
    "    max_neurons = max([n_neurons[i] for i in arr])\n",
    "    \n",
    "    min_epochs = min([n_epochs[i] for i in arr])\n",
    "    max_epochs = max([n_epochs[i] for i in arr])\n",
    "    \n",
    "    min_batch_size = min([n_batch_size[i] for i in arr])\n",
    "    max_batch_size = max([n_batch_size[i] for i in arr])\n",
    "    \n",
    "    params = {'min_layers': min_layers, 'max_layers': max_layers, 'min_neurons': min_neurons, 'max_neurons': max_neurons, 'min_epochs': min_epochs, 'max_epochs': max_epochs, 'min_batch_size':min_batch_size, 'max_batch_size':max_batch_size }\n",
    "    \n",
    "    return params\n",
    "\n",
    "        "
   ]
  },
  {
   "cell_type": "code",
   "execution_count": 29,
   "metadata": {
    "tags": []
   },
   "outputs": [],
   "source": [
    "def test_hyperparameters(params, recursions, improvement_step):\n",
    "    n_layers = []\n",
    "    n_neurons = []\n",
    "    random_activation = []\n",
    "    random_epochs = []\n",
    "    random_batch_size = []\n",
    "    random_optimizer = []\n",
    "    accuracy_training = []\n",
    "    accuracy_testing = []\n",
    "    total_accuracy_testing = 0\n",
    "    total_accuracy_training = 0\n",
    "    print('here')\n",
    "    for i in range(n):\n",
    "        n_layers.append(random.randint(params['min_layers'],params['max_layers']))\n",
    "        n_neurons.append(random.randint(params['min_neurons'], params['max_neurons']))\n",
    "        random_activation.append(activations[random.randint(0,2)])\n",
    "        random_epochs.append(random.randint(params['min_epochs'],params['max_epochs']))\n",
    "        random_batch_size.append(random.randint(params['min_batch_size'],params['max_batch_size']))\n",
    "        random_optimizer.append(optimizers[random.randint(0,2)])\n",
    "        models = Sequential()\n",
    "        models.add(Dense(11, input_shape=(11,), activation='tanh'))\n",
    "        for j in range(n_layers[i]):\n",
    "            models.add(Dense(n_neurons[i], activation='tanh'))\n",
    "        models.add(Dense(1, activation='sigmoid'))\n",
    "        opt = keras.optimizers.Adam(learning_rate=0.01)\n",
    "        model.compile(optimizer=opt,loss='binary_crossentropy',metrics='binary_accuracy')\n",
    "        models.fit(train_x,train_y, epochs = random_epochs[i], batch_size = random_batch_size[i], verbose = 0)\n",
    "        y_pred_proba = models.predict(train_x, verbose = 0)\n",
    "        y_pred_training = np.round(y_pred_proba).astype(int)\n",
    "\n",
    "        y_pred_proba = models.predict(test_x, verbose = 0)\n",
    "        y_pred_testing = np.round(y_pred_proba).astype(int)\n",
    "        \n",
    "        accuracy_training.append({'value': (y_pred_training == train_y).mean(), 'index': i})\n",
    "        accuracy_testing.append({'value': (y_pred_testing == test_y).mean(), 'index': i})  \n",
    "        \n",
    "        total_accuracy_testing += (y_pred_testing == test_y).mean()\n",
    "        total_accuracy_training += (y_pred_training == train_y).mean()\n",
    "    #accuracy_training = sorted(accuracy_training, key=lambda k: k['value'], reverse=True)\n",
    "    #accuracy_testing = sorted(accuracy_testing, key=lambda k: k['value'], reverse=True)\n",
    "    #test_params = accuracy_testing[:6]\n",
    "    test_params = [d for d in accuracy_testing if d['value'] > (0.64 + improvement_step)]\n",
    "    average_accuracy_testing.append(total_accuracy_testing/ len(accuracy_testing))\n",
    "    average_accuracy_training.append(total_accuracy_training/ len(accuracy_training))\n",
    "        \n",
    "    if recursions >= 0 and len(test_params) > 0:\n",
    "        params = change_range_hyperparameters(test_params,n_layers, n_neurons,random_epochs,random_batch_size)\n",
    "        print(params, 'Testing Accuracy', total_accuracy_testing/ len(accuracy_testing), 'Training Accuracy', (y_pred_training == train_y).mean())\n",
    "        test_hyperparameters(params, recursions - 1, improvement_step + 0.02)\n",
    "    return 'Complete'"
   ]
  },
  {
   "cell_type": "code",
   "execution_count": 12,
   "metadata": {
    "tags": []
   },
   "outputs": [
    {
     "name": "stdout",
     "output_type": "stream",
     "text": [
      "here\n",
      "{'min_layers': 2, 'max_layers': 30, 'min_neurons': 7, 'max_neurons': 133, 'min_epochs': 101, 'max_epochs': 147, 'min_batch_size': 3, 'max_batch_size': 87} Testing Accuracy 0.6364406779661016 Training Accuracy 0.76375\n",
      "here\n",
      "{'min_layers': 4, 'max_layers': 14, 'min_neurons': 23, 'max_neurons': 83, 'min_epochs': 103, 'max_epochs': 140, 'min_batch_size': 11, 'max_batch_size': 79} Testing Accuracy 0.6300847457627119 Training Accuracy 0.57\n",
      "here\n",
      "{'min_layers': 4, 'max_layers': 14, 'min_neurons': 26, 'max_neurons': 55, 'min_epochs': 108, 'max_epochs': 132, 'min_batch_size': 29, 'max_batch_size': 70} Testing Accuracy 0.6453389830508475 Training Accuracy 0.715\n",
      "here\n",
      "{'min_layers': 4, 'max_layers': 10, 'min_neurons': 42, 'max_neurons': 55, 'min_epochs': 111, 'max_epochs': 129, 'min_batch_size': 30, 'max_batch_size': 60} Testing Accuracy 0.677542372881356 Training Accuracy 0.76625\n",
      "here\n",
      "{'min_layers': 4, 'max_layers': 9, 'min_neurons': 42, 'max_neurons': 55, 'min_epochs': 111, 'max_epochs': 123, 'min_batch_size': 33, 'max_batch_size': 60} Testing Accuracy 0.6957627118644067 Training Accuracy 0.7175\n",
      "here\n",
      "{'min_layers': 4, 'max_layers': 9, 'min_neurons': 43, 'max_neurons': 51, 'min_epochs': 111, 'max_epochs': 121, 'min_batch_size': 35, 'max_batch_size': 58} Testing Accuracy 0.7067796610169493 Training Accuracy 0.77375\n",
      "here\n",
      "{'min_layers': 6, 'max_layers': 9, 'min_neurons': 48, 'max_neurons': 50, 'min_epochs': 114, 'max_epochs': 119, 'min_batch_size': 53, 'max_batch_size': 58} Testing Accuracy 0.6703389830508474 Training Accuracy 0.65125\n",
      "here\n"
     ]
    },
    {
     "data": {
      "text/plain": [
       "'Complete'"
      ]
     },
     "execution_count": 12,
     "metadata": {},
     "output_type": "execute_result"
    }
   ],
   "source": [
    "recursions = 10\n",
    "average_accuracy_testing = []\n",
    "average_accuracy_training = []\n",
    "improvement_step = 0\n",
    "params = {'min_layers': 1, 'max_layers': 30, 'min_neurons': 1, 'max_neurons': 150, 'min_epochs': 100, 'max_epochs': 150, 'min_batch_size':1, 'max_batch_size':118 }\n",
    "test_hyperparameters(params, recursions,improvement_step)"
   ]
  },
  {
   "cell_type": "code",
   "execution_count": 17,
   "metadata": {
    "tags": []
   },
   "outputs": [],
   "source": [
    "average_accuracy_testing = average_accuracy_testing[:len(average_accuracy_testing)-2]\n",
    "average_accuracy_training = average_accuracy_training[:len(average_accuracy_training)-2]"
   ]
  },
  {
   "cell_type": "markdown",
   "metadata": {},
   "source": [
    "# Discuss Plot below (talk about variance and how the accuracy goes up as we close the ranges of the hyperparameters)"
   ]
  },
  {
   "cell_type": "code",
   "execution_count": 18,
   "metadata": {
    "tags": []
   },
   "outputs": [
    {
     "name": "stdout",
     "output_type": "stream",
     "text": [
      "6\n"
     ]
    },
    {
     "data": {
      "image/png": "[encoded data removed]",
      "text/plain": [
       "<Figure size 500x400 with 1 Axes>"
      ]
     },
     "metadata": {},
     "output_type": "display_data"
    }
   ],
   "source": [
    "X = range(0,len(average_accuracy_testing))\n",
    "print(len(average_accuracy_testing))\n",
    "plt.plot(X,average_accuracy_testing,X,average_accuracy_training)\n",
    "plt.ylabel('Accuracy')\n",
    "plt.xlabel('Number of Recursions')\n",
    "plt.legend(['Testing Accuracy', 'Training Accuracy'])\n",
    "#plt.title(\"Learning rate =\" + str(learning_rate))\n",
    "plt.show()"
   ]
  },
  {
   "cell_type": "markdown",
   "metadata": {},
   "source": [
    "# Use the best range of nyper parameters based off the above results\n",
    "We can do this by manually now but select values of nyperparameters within its best range and test the new model over the testing data\n",
    "Discus results"
   ]
  },
  {
   "cell_type": "code",
   "execution_count": null,
   "metadata": {},
   "outputs": [],
   "source": [
    "#Write code for using model with new hyperparameters on testing set"
   ]
  },
  {
   "cell_type": "markdown",
   "metadata": {},
   "source": [
    "# Compare our results with the ones from our basic model and discuss"
   ]
  },
  {
   "cell_type": "code",
   "execution_count": 20,
   "metadata": {
    "tags": []
   },
   "outputs": [
    {
     "data": {
      "image/png": "[encoded data removed]",
      "text/plain": [
       "<Figure size 500x400 with 1 Axes>"
      ]
     },
     "metadata": {},
     "output_type": "display_data"
    }
   ],
   "source": [
    "history = secondModel.fit(train_x, train_y,validation_split = 0.1, epochs=50, batch_size=4,verbose=0)\n",
    "plt.plot(history.history['binary_accuracy'])\n",
    "plt.plot(history.history['val_binary_accuracy'])\n",
    "plt.title('model accuracy')\n",
    "plt.ylabel('accuracy')\n",
    "plt.xlabel('epoch')\n",
    "plt.legend(['train', 'val'], loc='upper left')\n",
    "plt.show()"
   ]
  },
  {
   "cell_type": "code",
   "execution_count": 117,
   "metadata": {
    "tags": []
   },
   "outputs": [
    {
     "name": "stdout",
     "output_type": "stream",
     "text": [
      "30\n"
     ]
    },
    {
     "data": {
      "image/png": "[encoded data removed]",
      "text/plain": [
       "<Figure size 500x400 with 1 Axes>"
      ]
     },
     "metadata": {},
     "output_type": "display_data"
    }
   ],
   "source": [
    "X = range(18,30)\n",
    "print(len(average_accuracy_testing))\n",
    "plt.plot(X,average_accuracy_testing[18:30])\n",
    "plt.ylabel('Accuracy')\n",
    "plt.xlabel('Number of Recursions')\n",
    "#plt.title(\"Learning rate =\" + str(learning_rate))\n",
    "plt.show()"
   ]
  },
  {
   "cell_type": "code",
   "execution_count": 77,
   "metadata": {},
   "outputs": [
    {
     "data": {
      "image/png": "[encoded data removed]",
      "text/plain": [
       "<Figure size 500x400 with 1 Axes>"
      ]
     },
     "metadata": {},
     "output_type": "display_data"
    }
   ],
   "source": [
    "X = range(0,6)\n",
    "plt.plot(X,average_accuracy[0:6])\n",
    "plt.ylabel('Accuracy')\n",
    "plt.xlabel('Number of Recursions')\n",
    "#plt.title(\"Learning rate =\" + str(learning_rate))\n",
    "plt.show()"
   ]
  },
  {
   "cell_type": "markdown",
   "metadata": {},
   "source": [
    "**Grading**: \n",
    "- Part 1 code for L_layer_model(): **10 marks**\n",
    "- Part 2:\n",
    "  - Dataset choice and analysis: **10 marks**\n",
    "  - Building your model:\n",
    "    - Basic model: **5 marks**\n",
    "    - Implementing improvements to model: **15 marks**\n",
    "  - Idea, Code, Experiment Cycle: **20 marks**\n",
    "\n",
    "**Total** for project: **60 marks**"
   ]
  },
  {
   "cell_type": "markdown",
   "metadata": {},
   "source": [
    "**Submission**: Submit a zip file containing all of the files/folders for your project. Make sure all files are included; do not assume we have certain files already."
   ]
  }
 ],
 "metadata": {
  "coursera": {
   "course_slug": "neural-networks-deep-learning",
   "graded_item_id": "TSPse",
   "launcher_item_id": "24mxX"
  },
  "kernelspec": {
   "display_name": "Python 3 (ipykernel)",
   "language": "python",
   "name": "python3"
  },
  "language_info": {
   "codemirror_mode": {
    "name": "ipython",
    "version": 3
   },
   "file_extension": ".py",
   "mimetype": "text/x-python",
   "name": "python",
   "nbconvert_exporter": "python",
   "pygments_lexer": "ipython3",
   "version": "3.10.5"
  }
 },
 "nbformat": 4,
 "nbformat_minor": 4
}
